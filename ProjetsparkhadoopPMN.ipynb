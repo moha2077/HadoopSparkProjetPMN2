{
  "cells": [
    {
      "cell_type": "code",
      "execution_count": null,
      "metadata": {
        "colab": {
          "base_uri": "https://localhost:8080/"
        },
        "id": "pfYtt_YJWIQ6",
        "outputId": "cdccc8aa-a516-4a0a-d48a-a9dd98e53696"
      },
      "outputs": [
        {
          "name": "stdout",
          "output_type": "stream",
          "text": [
            "Requirement already satisfied: pyspark in /usr/local/lib/python3.10/dist-packages (3.4.1)\n",
            "Requirement already satisfied: py4j==0.10.9.7 in /usr/local/lib/python3.10/dist-packages (from pyspark) (0.10.9.7)\n"
          ]
        }
      ],
      "source": [
        "! pip install pyspark"
      ]
    },
    {
      "cell_type": "code",
      "execution_count": null,
      "metadata": {
        "id": "FDonV9t0Us1d"
      },
      "outputs": [],
      "source": [
        "from pyspark.sql import SparkSession\n",
        "from pyspark.sql.functions import col, concat_ws, to_date, lit, when\n",
        "from pyspark.sql import functions as f\n",
        "'''Create  the session'''\n",
        "spark = SparkSession.builder.appName(\"Dataframe Reporting\").getOrCreate()\n",
        "datasets_path = '/content/drive/MyDrive/PMN/data/'\n",
        "\n",
        "df_full = spark.read.csv(datasets_path + 'output_csv_full.csv', header=True, inferSchema=True)\n",
        "df_country = spark.read.csv(datasets_path + 'country_classification.csv', header=True, inferSchema=True)\n",
        "data_service = spark.read.csv(datasets_path + 'services_classification.csv', header=True, inferSchema=True)\n",
        "data_good = spark.read.csv(datasets_path + 'goods_classification.csv', header=True, inferSchema=True)\n"
      ]
    },
    {
      "cell_type": "code",
      "execution_count": null,
      "metadata": {
        "colab": {
          "base_uri": "https://localhost:8080/"
        },
        "id": "VFRy3B5ZoysT",
        "outputId": "28d6c34a-9fd9-4828-c18a-9f6ef0f49d4c"
      },
      "outputs": [
        {
          "name": "stdout",
          "output_type": "stream",
          "text": [
            "+-------+--------------------+\n",
            "|   code|       service_label|\n",
            "+-------+--------------------+\n",
            "|    A12|            Services|\n",
            "|  A1202|Maintenance and r...|\n",
            "|  A1203|      Transportation|\n",
            "| A12031|       Sea transport|\n",
            "|A120312|             Freight|\n",
            "|A120313|               Other|\n",
            "| A12032|       Air transport|\n",
            "|A120321|Air passenger tra...|\n",
            "|A120322|Air freight trans...|\n",
            "|A120323| Air other transport|\n",
            "| A12034|Postal and courie...|\n",
            "|  A1204|              Travel|\n",
            "| A12041|     Business travel|\n",
            "| A12042|     Personal travel|\n",
            "|A120421|Education related...|\n",
            "|A120422|Health related tr...|\n",
            "|A120423|Other personal tr...|\n",
            "|  A1205|Construction serv...|\n",
            "|  A1206|Insurance and pen...|\n",
            "| A12062|         Reinsurance|\n",
            "+-------+--------------------+\n",
            "only showing top 20 rows\n",
            "\n"
          ]
        }
      ],
      "source": [
        "data_service.show()"
      ]
    },
    {
      "cell_type": "code",
      "execution_count": null,
      "metadata": {
        "id": "kVgvjXg4VjCU"
      },
      "outputs": [],
      "source": [
        "# Question 1: Convertir le format de la date '202206' vers '01/06/2022'\n",
        "def question_1(df):\n",
        "    rdf = df.withColumn(\"date\", to_date(concat_ws(\"/\", lit(\n",
        "        \"01\"), col(\"time_ref\").substr(5, 2), col(\n",
        "        \"time_ref\").substr(1, 4)), \"d/M/yyyy\"))\n",
        "\n",
        "    return rdf"
      ]
    },
    {
      "cell_type": "code",
      "execution_count": null,
      "metadata": {
        "id": "TsTETCEAVmF0"
      },
      "outputs": [],
      "source": [
        "# Question 2: Extraire l'année\n",
        "def question_2(df):\n",
        "    rdf = df.withColumn(\"year\", f.year(df[\"date\"]))\n",
        "    return rdf\n"
      ]
    },
    {
      "cell_type": "code",
      "execution_count": null,
      "metadata": {
        "id": "RFzsdMVBVpAP"
      },
      "outputs": [],
      "source": [
        "# Question 3-4: Ajouter le nom du pays\n",
        "def question_3(df):\n",
        "    rdf = df.join(df_country, on=\"country_code\", how=\"left\")\n",
        "    return rdf"
      ]
    },
    {
      "cell_type": "code",
      "execution_count": null,
      "metadata": {
        "id": "VX2Wl8_VVvj-"
      },
      "outputs": [],
      "source": [
        "\n",
        "# Question 5: Ajouter une colonne is_services (1 si Services, 0 sinon)\n",
        "def question_5(df):\n",
        "    rdf = df.withColumn(\"details_service\", when(col(\"product_type\") == \"Services\", 1).otherwise(0))\n",
        "    return rdf\n"
      ]
    },
    {
      "cell_type": "code",
      "execution_count": null,
      "metadata": {
        "id": "LoPe9EgZdCcd"
      },
      "outputs": [],
      "source": [
        "from pyspark.sql.functions import sum as _sum\n",
        "# Question 6 : Classer les pays Exporteurs par Services et Goods\n",
        "def question_6(df):\n",
        "    df_exporters = df.filter(col(\"account\") == 'Exports')\n",
        "\n",
        "    grouped_df = df_exporters.groupby('country_label') \\\n",
        "        .agg(_sum('details_good').alias('total_goods'),\n",
        "             _sum('details_service').alias('total_service'))\n",
        "    sorted_df = grouped_df.orderBy(col(\"total_goods\").desc(), col(\"total_service\").desc())\n",
        "    return sorted_df"
      ]
    },
    {
      "cell_type": "code",
      "execution_count": null,
      "metadata": {
        "id": "ZIuGy4d5eX-E"
      },
      "outputs": [],
      "source": [
        "# Question 7 : Classer les pays Importeurs par Services et Goods\n",
        "def question_7(df):\n",
        "    df_exporters = df.filter(col(\"account\") == 'Imports')\n",
        "\n",
        "    grouped_df = df_exporters.groupby('country_label') \\\n",
        "        .agg(_sum('details_good').alias('total_goods'),\n",
        "             _sum('details_service').alias('total_service'))\n",
        "    sorted_df = grouped_df.orderBy(col(\"total_goods\").desc(), col(\"total_service\").desc())\n",
        "    return sorted_df"
      ]
    },
    {
      "cell_type": "code",
      "execution_count": null,
      "metadata": {
        "id": "KIMi_hY__ImZ"
      },
      "outputs": [],
      "source": [
        "# Question 8 : regroupement par good\n",
        "def question_8(df):\n",
        "  #df_exporters = df.filter(col(\"account\") == 'Imports')\n",
        "\n",
        "    grouped_df = df.groupby('country_label') \\\n",
        "        .agg(_sum('details_good').alias('total_goods'))\n",
        "    sorted_df = grouped_df.orderBy(col(\"total_goods\").desc())\n",
        "    return sorted_df\n",
        "\n"
      ]
    },
    {
      "cell_type": "code",
      "execution_count": null,
      "metadata": {
        "id": "FsMkRtdaAuJ3"
      },
      "outputs": [],
      "source": [
        "# Question 9 : regroupement des pays  par service\n",
        "def question_9(df):\n",
        "  #df_exporters = df.filter(col(\"account\") == 'Imports')\n",
        "\n",
        "    grouped_df = df.groupby('country_label') \\\n",
        "        .agg(_sum('details_service').alias('total_service'))\n",
        "    sorted_df = grouped_df.orderBy(col(\"total_service\").desc())\n",
        "    return sorted_df"
      ]
    },
    {
      "cell_type": "code",
      "execution_count": null,
      "metadata": {
        "id": "HbtW3srJYGc-"
      },
      "outputs": [],
      "source": [
        "# Question 10 : la liste des services exporté de la france\n",
        "def question_10(df):\n",
        "    df_export_france_services = df.filter((col(\"account\") == \"Exports\") & (col(\"product_type\") == \"Services\") & (col(\"country_code\") == \"FR\"))\n",
        "    return df_export_france_services\n"
      ]
    },
    {
      "cell_type": "code",
      "execution_count": null,
      "metadata": {
        "id": "KUmPLFjMZ6Z0"
      },
      "outputs": [],
      "source": [
        "# Question 11 : la liste des services importé de la france\n",
        "def question_11(df):\n",
        "    df_import_france_goods = df.filter((col(\"account\") == \"Imports\") & (col(\"product_type\") == \"Goods\") & (col(\"country_code\") == \"FR\"))\n",
        "    return df_import_france_goods\n"
      ]
    },
    {
      "cell_type": "code",
      "execution_count": null,
      "metadata": {
        "id": "imw8VOYWeW6a"
      },
      "outputs": [],
      "source": [
        "# Question 12 : classement des services les moins demandés\n",
        "def question_12(df):\n",
        "    df_services = df.filter(col(\"product_type\") == \"Services\")\n",
        "    grouped_df = df_services.groupby(\"country_label\") \\\n",
        "        .agg(_sum(\"details_service\").alias(\"total_service\"))\n",
        "    sorted_df = grouped_df.orderBy(col(\"total_service\").asc())\n",
        "    return sorted_df\n"
      ]
    },
    {
      "cell_type": "code",
      "execution_count": null,
      "metadata": {
        "id": "kziu3U6mkHdH"
      },
      "outputs": [],
      "source": [
        "# Question 13 : classement des goods les plus demandé\n",
        "def question_13(df):\n",
        "    df_goods = df.filter(col(\"product_type\") == \"Goods\")\n",
        "    grouped_df = df_goods.groupby(\"country_label\") \\\n",
        "        .agg(_sum(\"details_good\").alias(\"total_goods\"))\n",
        "    sorted_df = grouped_df.orderBy(col(\"total_goods\").desc())\n",
        "    return sorted_df"
      ]
    },
    {
      "cell_type": "code",
      "execution_count": null,
      "metadata": {
        "id": "YHLTu9_2HPd9"
      },
      "outputs": [],
      "source": [
        "# Question 14 : Ajouter la colonne status_import_export (négative si import > export, sinon positive par pays)\n",
        "def question_14(df):\n",
        "    grouped_df = df.groupby(\"country_label\").agg(_sum(\"details_good\").alias(\"total_goods\"), _sum(\"details_service\").alias(\"total_service\"))\n",
        "    rdf = grouped_df.withColumn(\"status_import_export\", when((col(\"total_goods\") - col(\"total_service\")) > 0, \"positive\").otherwise(\"negative\"))\n",
        "    return rdf\n"
      ]
    },
    {
      "cell_type": "code",
      "execution_count": null,
      "metadata": {
        "id": "-tE0SOH9JdHW"
      },
      "outputs": [],
      "source": [
        "# Question 15 : Ajouter la column difference_import_expor\n",
        "def question_15(df):\n",
        "    grouped_df = df.groupby(\"country_label\").agg(_sum(\"details_good\").alias(\"total_goods\"), _sum(\"details_service\").alias(\"total_service\"))\n",
        "    rdf = grouped_df.withColumn(\"difference_import_export\", col(\"total_goods\") - col(\"total_service\"))\n",
        "    return rdf"
      ]
    },
    {
      "cell_type": "code",
      "execution_count": null,
      "metadata": {
        "id": "mSXAelbnNI_S"
      },
      "outputs": [],
      "source": [
        "# Question 16 : Ajouter la column Somme_good\n",
        "def question_16(df):\n",
        "    grouped_df = df.groupby(\"country_label\").agg(_sum(\"details_good\").alias(\"Somme_good\"))\n",
        "    return grouped_df"
      ]
    },
    {
      "cell_type": "code",
      "execution_count": null,
      "metadata": {
        "id": "KHbmNeH2NtH7"
      },
      "outputs": [],
      "source": [
        "# Question 17 : Ajouter la column Somme_service\n",
        "def question_17(df):\n",
        "    grouped_df = df.groupby(\"country_label\").agg(_sum(\"details_service\").alias(\"Somme_service\"))\n",
        "    return grouped_df"
      ]
    },
    {
      "cell_type": "code",
      "execution_count": null,
      "metadata": {
        "id": "u67HzZfoOTBi"
      },
      "outputs": [],
      "source": [
        "# Question 18 : Ajouter la colonne pourcentages_good (pourcentage de la colonne good par rapport à tous les goods d'un seul pays)\n",
        "def question_18(df):\n",
        "   rdf = df.withColumn(\"pourcentages_good\", (col(\"difference_import_export\") / col(\"Total_goods\")) * 100)\n",
        "   return rdf"
      ]
    },
    {
      "cell_type": "code",
      "execution_count": null,
      "metadata": {
        "id": "EYi5GO55awVN"
      },
      "outputs": [],
      "source": [
        "# Question 19 : Ajouter la colonne pourcentages_good (pourcentage de la colonne good par rapport à tous les goods d'un seul pays)\n",
        "def question_19(df):\n",
        "   rdf = df.withColumn(\"pourcentages_service\", (col(\"difference_import_export\") / col(\"total_Service\")) * 100)\n",
        "   return rdf"
      ]
    },
    {
      "cell_type": "code",
      "execution_count": null,
      "metadata": {
        "id": "xRKM-hT4V34M"
      },
      "outputs": [],
      "source": [
        "r1 = question_1(df_full)\n",
        "#r1.show() \n",
        "\n"
      ]
    },
    {
      "cell_type": "code",
      "execution_count": null,
      "metadata": {
        "id": "UNXW0TK9V6ZO"
      },
      "outputs": [],
      "source": [
        "r2 = question_2(r1)\n",
        "#r2.show() "
      ]
    },
    {
      "cell_type": "code",
      "execution_count": null,
      "metadata": {
        "id": "gjpzE2toV8CH"
      },
      "outputs": [],
      "source": [
        "r3 = question_3(r2)\n",
        "#r3.show() "
      ]
    },
    {
      "cell_type": "code",
      "execution_count": null,
      "metadata": {
        "id": "y0EIiWntV9zw"
      },
      "outputs": [],
      "source": [
        "r4 = question_4(r3)\n",
        "#r4.show() \n"
      ]
    },
    {
      "cell_type": "code",
      "execution_count": null,
      "metadata": {
        "id": "tdvkrThHV_nM"
      },
      "outputs": [],
      "source": [
        "r5 = question_5(r4)\n",
        "#r5.show() "
      ]
    },
    {
      "cell_type": "code",
      "execution_count": null,
      "metadata": {
        "id": "80nY8rCGWEG9"
      },
      "outputs": [],
      "source": [
        "r6 = question_6(r5)\n",
        "#r6.show() "
      ]
    },
    {
      "cell_type": "code",
      "execution_count": null,
      "metadata": {
        "id": "1jVWU3Cqev_7"
      },
      "outputs": [],
      "source": [
        "r7 = question_7(r5)\n",
        "#r7.show() "
      ]
    },
    {
      "cell_type": "code",
      "execution_count": null,
      "metadata": {
        "id": "OxUsFZjcAaIS"
      },
      "outputs": [],
      "source": [
        "r8 = question_8(r5)\n",
        "#r8.show()"
      ]
    },
    {
      "cell_type": "code",
      "execution_count": null,
      "metadata": {
        "id": "gQmz1mjlA9Mr"
      },
      "outputs": [],
      "source": [
        "r9 = question_9(r5)\n",
        "#r9.show()"
      ]
    },
    {
      "cell_type": "code",
      "execution_count": null,
      "metadata": {
        "id": "u7q5JY7rZVFc"
      },
      "outputs": [],
      "source": [
        "r10 = question_10(r5)\n",
        "#r10.show()"
      ]
    },
    {
      "cell_type": "code",
      "execution_count": null,
      "metadata": {
        "id": "ujORmRZ0bWGG"
      },
      "outputs": [],
      "source": [
        "r11 = question_11(r5)\n",
        "#r11.show()"
      ]
    },
    {
      "cell_type": "code",
      "execution_count": null,
      "metadata": {
        "id": "IGDkBbOKpW6y"
      },
      "outputs": [],
      "source": [
        "r12 = question_12(r5)\n",
        "#r12.show()"
      ]
    },
    {
      "cell_type": "code",
      "execution_count": null,
      "metadata": {
        "id": "KI1CNkiFpeN7"
      },
      "outputs": [],
      "source": [
        "r13 = question_13(r5)\n",
        "#r13.show()"
      ]
    },
    {
      "cell_type": "code",
      "execution_count": null,
      "metadata": {
        "id": "RPx3Atz3pi7O"
      },
      "outputs": [],
      "source": [
        "r14 = question_13(r5)\n",
        "#r14.show()"
      ]
    },
    {
      "cell_type": "code",
      "execution_count": null,
      "metadata": {
        "id": "ZqBQBdBie_lL"
      },
      "outputs": [],
      "source": [
        "r15 = question_15(r5)\n",
        "#r15.show()"
      ]
    },
    {
      "cell_type": "code",
      "execution_count": null,
      "metadata": {
        "id": "Se-2OlIYF1Fu"
      },
      "outputs": [],
      "source": [
        "r16 = question_16(r5)\n",
        "#r16.show()"
      ]
    },
    {
      "cell_type": "code",
      "execution_count": null,
      "metadata": {
        "colab": {
          "base_uri": "https://localhost:8080/"
        },
        "id": "CCBkM0XJXfFE",
        "outputId": "57e35980-681a-480b-d88f-a67fb4557e78"
      },
      "outputs": [
        {
          "name": "stdout",
          "output_type": "stream",
          "text": [
            "+--------+-------+----+------------+------------+-------------+------+\n",
            "|time_ref|account|code|country_code|product_type|        value|status|\n",
            "+--------+-------+----+------------+------------+-------------+------+\n",
            "|  202206|Exports|  00|          AE|       Goods| 2.18885468E8|     F|\n",
            "|  202206|Exports|  00|          AG|       Goods|     253686.0|     F|\n",
            "|  202206|Exports|  00|          AI|       Goods|      14070.0|     F|\n",
            "|  202206|Exports|  00|          AL|       Goods|     260451.0|     F|\n",
            "|  202206|Exports|  00|          AM|       Goods|     700191.0|     F|\n",
            "|  202206|Exports|  00|          AO|       Goods|    4405208.0|     F|\n",
            "|  202206|Exports|  00|          AR|       Goods|    8006648.0|     F|\n",
            "|  202206|Exports|  00|          AS|       Goods|    7290217.0|     F|\n",
            "|  202206|Exports|  00|          AT|       Goods|  1.0618267E7|     F|\n",
            "|  202206|Exports|  00|          AU|       Goods|2.161743586E9|     F|\n",
            "|  202206|Exports|  00|          AW|       Goods|     122920.0|     F|\n",
            "|  202206|Exports|  00|          AZ|       Goods|    3375277.0|     F|\n",
            "|  202206|Exports|  00|          BA|       Goods|     111402.0|     F|\n",
            "|  202206|Exports|  00|          BB|       Goods|    9379784.0|     F|\n",
            "|  202206|Exports|  00|          BD|       Goods| 1.49222319E8|     F|\n",
            "|  202206|Exports|  00|          BE|       Goods|  7.9124351E7|     F|\n",
            "|  202206|Exports|  00|          BF|       Goods|     109852.0|     F|\n",
            "|  202206|Exports|  00|          BG|       Goods|    3990054.0|     F|\n",
            "|  202206|Exports|  00|          BH|       Goods|  2.6791637E7|     F|\n",
            "|  202206|Exports|  00|          BJ|       Goods|     733783.0|     F|\n",
            "+--------+-------+----+------------+------------+-------------+------+\n",
            "only showing top 20 rows\n",
            "\n"
          ]
        }
      ],
      "source": [
        "df_full.show(\n",
        "\n",
        ")"
      ]
    }
  ],
  "metadata": {
    "colab": {
      "provenance": []
    },
    "kernelspec": {
      "display_name": "Python 3",
      "name": "python3"
    },
    "language_info": {
      "name": "python"
    }
  },
  "nbformat": 4,
  "nbformat_minor": 0
}
